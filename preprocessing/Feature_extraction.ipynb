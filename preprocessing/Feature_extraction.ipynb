{
 "cells": [
  {
   "cell_type": "code",
   "execution_count": 26,
   "outputs": [],
   "source": [
    "#import libraries\n",
    "# import librosa\n",
    "import h5py\n",
    "import os\n",
    "import matplotlib.pyplot as plt\n",
    "import numpy as np\n",
    "import pandas as pd\n",
    "# import librosa.display\n",
    "import numpy as np\n",
    "from scipy.signal import argrelmax, argrelmin, firwin, convolve,argrelextrema\n",
    "MINIMUM_PULSE_CYCLE = 0.5\n",
    "MAXIMUM_PULSE_CYCLE = 1.2\n",
    "PPG_SYSTOLIC_PEAK_DETECTION_THRESHOLD_COEFFICIENT = 0.5\n",
    "PPG_SAMPLE_RATE = 125\n",
    "PPG_FIR_FILTER_TAP_NUM = 200\n",
    "PPG_FILTER_CUTOFF = [0.5, 5.0]\n",
    "PPG_SYSTOLIC_PEAK_DETECTION_THRESHOLD_COEFFICIENT = 0.5"
   ],
   "metadata": {
    "collapsed": false,
    "pycharm": {
     "name": "#%%\n"
    }
   }
  },
  {
   "cell_type": "code",
   "execution_count": 31,
   "outputs": [
    {
     "name": "stdout",
     "output_type": "stream",
     "text": [
      "label\n",
      "<HDF5 dataset \"label\": shape (310204, 2), type \"<i4\">\n",
      "ppg\n",
      "<HDF5 dataset \"ppg\": shape (310204, 625), type \"<f4\">\n",
      "subject_idx\n",
      "<HDF5 dataset \"subject_idx\": shape (310204, 1), type \"<i4\">\n"
     ]
    }
   ],
   "source": [
    "#load ppg windows\n",
    "#win='D:/Implementation/NeuralnetworkBPestimation/data/Rec_mimic/3001203/3001203_0010.h5'\n",
    "win='D:/Implementation/NeuralnetworkBPestimation/data/win1.h5'\n",
    "# win=r'F:\\Projets\\Gaby project\\NeuralnetworkBPestimation\\win2_ppg.h5'\n",
    "with h5py.File(win, \"r\") as f:\n",
    "    for line in f:\n",
    "        print(line)\n",
    "        print(f[line])"
   ],
   "metadata": {
    "collapsed": false,
    "pycharm": {
     "name": "#%%\n"
    }
   }
  },
  {
   "cell_type": "markdown",
   "source": [
    "## Display a ppg window"
   ],
   "metadata": {
    "collapsed": false,
    "pycharm": {
     "name": "#%% md\n"
    }
   }
  },
  {
   "cell_type": "code",
   "execution_count": 32,
   "outputs": [
    {
     "data": {
      "text/plain": "<Figure size 432x288 with 1 Axes>",
      "image/png": "[encoded data removed]"
     },
     "metadata": {
      "needs_background": "light"
     },
     "output_type": "display_data"
    }
   ],
   "source": [
    "with h5py.File(win,'r') as db:\n",
    "    ppg = db['ppg']\n",
    "    #plt.plot(ppg[12,:])\n",
    "    ppg_data=ppg[879,:]\n",
    "    plt.plot(ppg_data)\n",
    "    #plt.plot(ppg[1000,:])\n",
    "    #plt.plot(ppg[1,:])\n",
    "    plt.xlabel('samples')\n",
    "    plt.ylabel('amplitude')\n",
    "    plt.title('5s ppg signal windows')"
   ],
   "metadata": {
    "collapsed": false,
    "pycharm": {
     "name": "#%%\n"
    }
   }
  },
  {
   "cell_type": "markdown",
   "source": [
    "### Row extraction"
   ],
   "metadata": {
    "collapsed": false,
    "pycharm": {
     "name": "#%% md\n"
    }
   }
  },
  {
   "cell_type": "code",
   "execution_count": 33,
   "outputs": [],
   "source": [
    "#Extract a row from the ppg along with label corresponding to the row\n",
    "def Extract_row_win(win,row_nbr):\n",
    "    with h5py.File(win,'r') as db:\n",
    "        ppg= db['ppg']\n",
    "        abp=db['label']\n",
    "        row= ppg[row_nbr,:]\n",
    "        row_label=abp[row_nbr,:]\n",
    "        SBP=row_label[0]\n",
    "        DBP=row_label[1]\n",
    "        return row, SBP, DBP"
   ],
   "metadata": {
    "collapsed": false,
    "pycharm": {
     "name": "#%%\n"
    }
   }
  },
  {
   "cell_type": "markdown",
   "source": [
    "## Find and extrema"
   ],
   "metadata": {
    "collapsed": false,
    "pycharm": {
     "name": "#%% md\n"
    }
   }
  },
  {
   "cell_type": "code",
   "execution_count": 34,
   "outputs": [],
   "source": [
    "def find_extrema(signal):\n",
    "    signal = np.array(signal)\n",
    "    extrema_index = np.sort(np.unique(np.concatenate((argrelmax(signal)[0], argrelmin(signal)[0]))))\n",
    "    extrema = signal[extrema_index]\n",
    "    return zip(extrema_index.tolist(), extrema.tolist())"
   ],
   "metadata": {
    "collapsed": false,
    "pycharm": {
     "name": "#%%\n"
    }
   }
  },
  {
   "cell_type": "markdown",
   "source": [
    "## Extract a waveform"
   ],
   "metadata": {
    "collapsed": false,
    "pycharm": {
     "name": "#%% md\n"
    }
   }
  },
  {
   "cell_type": "code",
   "execution_count": 41,
   "outputs": [],
   "source": [
    "def extract_ppg_single_waveform(signal, sample_rate=PPG_SAMPLE_RATE):\n",
    "    signal_ppg=signal[0]\n",
    "    SBP=signal[1]\n",
    "    DBP=signal[2]\n",
    "    threshold = (max(signal_ppg) - min(signal_ppg)) * PPG_SYSTOLIC_PEAK_DETECTION_THRESHOLD_COEFFICIENT\n",
    "    single_waveforms = []\n",
    "    single_waveforms = []\n",
    "    last_extremum_index = None\n",
    "    last_extremum = None\n",
    "    last_single_waveform_start_index = None\n",
    "    for extremum_index, extremum in find_extrema(signal=signal_ppg):\n",
    "        if last_extremum is not None and np.array(extremum )- np.array(last_extremum) > threshold:\n",
    "            if last_single_waveform_start_index is not None:\n",
    "                single_waveform = signal_ppg[last_single_waveform_start_index:last_extremum_index]\n",
    "                if len(single_waveform)<=140:\n",
    "                    single_waveforms.append(single_waveform)\n",
    "            last_single_waveform_start_index = last_extremum_index\n",
    "        last_extremum_index = extremum_index\n",
    "        last_extremum = extremum\n",
    "\n",
    "    single_waveforms_next=single_waveforms[1:]\n",
    "    single_waveforms=single_waveforms[:-1]\n",
    "    return single_waveforms,SBP,DBP,single_waveforms_next"
   ],
   "metadata": {
    "collapsed": false,
    "pycharm": {
     "name": "#%%\n"
    }
   }
  },
  {
   "cell_type": "markdown",
   "source": [
    "## Extract 20 PPG features"
   ],
   "metadata": {
    "collapsed": false,
    "pycharm": {
     "name": "#%% md\n"
    }
   }
  },
  {
   "cell_type": "code",
   "execution_count": 41,
   "outputs": [],
   "source": [],
   "metadata": {
    "collapsed": false,
    "pycharm": {
     "name": "#%%\n"
    }
   }
  },
  {
   "cell_type": "code",
   "execution_count": 51,
   "outputs": [],
   "source": [
    "def extract_ppg20(wave,next_wave,sample_rate=125):\n",
    "    maxima_index = np.squeeze(argrelmax(wave))\n",
    "    if len(maxima_index.shape)>0:\n",
    "        maxima_index=maxima_index[0]\n",
    "\n",
    "    next_maxima_index = np.squeeze(argrelmax(next_wave))\n",
    "    if len(next_maxima_index.shape)>0:\n",
    "        next_maxima_index=next_maxima_index[0]\n",
    "\n",
    "    cp=(wave.shape[0]-maxima_index)+next_maxima_index\n",
    "    cp=cp/PPG_SAMPLE_RATE\n",
    "    #print(x)\n",
    "    minima_index = np.squeeze(argrelextrema(wave,np.less_equal))\n",
    "    #print(minima_index)\n",
    "    sys_min_index=minima_index[0]\n",
    "    dias_min_index=minima_index[-1]\n",
    "\n",
    "    features_dict={}\n",
    "    features_dict[\"CP\"]=cp\n",
    "    # cp_points=[maxima_index,next_maxima_index+wave.shape[0]],[wave[maxima_index],wave[maxima_index]]\n",
    "\n",
    "\n",
    "\n",
    "\n",
    "    features_points=[],[]\n",
    "    targets=[0, 10, 25, 33, 50, 66, 75]\n",
    "\n",
    "\n",
    "\n",
    "\n",
    "    #2. Diastolic features\n",
    "    dias_ampli=wave[maxima_index]-wave[dias_min_index]\n",
    "    dias_features=[\"DT\",\"DW10\",\"DW25\",\"DW33\",\"DW50\",\"DW66\",\"DW75\"]\n",
    "    target_idx=0\n",
    "    for i in reversed(range(maxima_index,dias_min_index+1)):\n",
    "        ampli=wave[i]-wave[dias_min_index]\n",
    "        if ampli>=dias_ampli*targets[target_idx]/100:\n",
    "            # features_points[0].append(i)\n",
    "            # features_points[1].append(wave[i])\n",
    "            dt=(i-maxima_index)/PPG_SAMPLE_RATE\n",
    "            features_dict[dias_features[target_idx]]=dt\n",
    "            target_idx+=1\n",
    "            if target_idx>=len(targets):break\n",
    "\n",
    "    #1. Systolic features\n",
    "    sys_ampli=wave[maxima_index]-wave[sys_min_index]\n",
    "    sys_features=[\"SUT\", \"SW10\", \"SW25\", \"SW33\", \"SW50\", \"SW66\", \"SW755\"]\n",
    "    target_idx=0\n",
    "    for i in range(sys_min_index,maxima_index):\n",
    "        ampli=wave[i]-wave[sys_min_index]\n",
    "        if ampli >=sys_ampli*targets[target_idx]/100:\n",
    "            features_points[0].append(i)\n",
    "            features_points[1].append(wave[i])\n",
    "            dt=(maxima_index-i)/PPG_SAMPLE_RATE\n",
    "            if target_idx==0:\n",
    "                features_dict[sys_features[target_idx]]=dt\n",
    "            else:\n",
    "                try:\n",
    "                    features_dict[f\"SW_DW_ADD{targets[target_idx]}\"]= dt + features_dict[dias_features[target_idx]]\n",
    "                #print()\n",
    "                    features_dict[f\"SW_DW_DIV_{targets[target_idx]}\"]=  features_dict[dias_features[target_idx]]/dt \n",
    "                except:\n",
    "                    print(maxima_index,minima_index)\n",
    "                    plt.plot(wave)\n",
    "                    return\n",
    "            \n",
    "            target_idx+=1\n",
    "            if target_idx>=len(targets):break\n",
    "    features_values=list(features_dict.values())\n",
    "    # plt.plot(wave)\n",
    "    # plt.plot(list(range(wave.shape[0],wave.shape[0]+next_wave.shape[0])),next_wave)\n",
    "    # plt.scatter(features_points[0],features_points[1],color=\"red\")\n",
    "    # plt.plot(cp_points[0],cp_points[1])\n",
    "    print(features_dict)\n",
    "    return features_values\n",
    "    \n",
    "    \n",
    "\n",
    "\n",
    "\n",
    " "
   ],
   "metadata": {
    "collapsed": false,
    "pycharm": {
     "name": "#%%\n"
    }
   }
  },
  {
   "cell_type": "markdown",
   "source": [
    "## RUN ONLY ONCE!!!!"
   ],
   "metadata": {
    "collapsed": false,
    "pycharm": {
     "name": "#%% md\n"
    }
   }
  },
  {
   "cell_type": "code",
   "execution_count": 53,
   "outputs": [
    {
     "name": "stdout",
     "output_type": "stream",
     "text": [
      "{'CP': 0.744, 'DT': 0.528, 'DW10': 0.408, 'DW25': 0.304, 'DW33': 0.256, 'DW50': 0.184, 'DW66': 0.12, 'DW75': 0.088, 'SUT': 0.224, 'SW_DW_ADD10': 0.576, 'SW_DW_DIV_10': 2.4285714285714284, 'SW_DW_ADD25': 0.44799999999999995, 'SW_DW_DIV_25': 2.111111111111111, 'SW_DW_ADD33': 0.392, 'SW_DW_DIV_33': 1.8823529411764706, 'SW_DW_ADD50': 0.296, 'SW_DW_DIV_50': 1.6428571428571428, 'SW_DW_ADD66': 0.216, 'SW_DW_DIV_66': 1.25, 'SW_DW_ADD75': 0.16799999999999998, 'SW_DW_DIV_75': 1.0999999999999999}\n"
     ]
    },
    {
     "ename": "FileNotFoundError",
     "evalue": "[Errno 2] No such file or directory: 'D:/Implementation/NeuralnetworkBPestimation/data/Features_ppg_20/subject_10_features.csv'",
     "output_type": "error",
     "traceback": [
      "\u001B[1;31m---------------------------------------------------------------------------\u001B[0m",
      "\u001B[1;31mFileNotFoundError\u001B[0m                         Traceback (most recent call last)",
      "Input \u001B[1;32mIn [53]\u001B[0m, in \u001B[0;36m<cell line: 7>\u001B[1;34m()\u001B[0m\n\u001B[0;32m     24\u001B[0m     feature\u001B[38;5;241m=\u001B[39mnp\u001B[38;5;241m.\u001B[39mconcatenate([feat_np,waveforms[\u001B[38;5;241m1\u001B[39m]\u001B[38;5;241m*\u001B[39mnp\u001B[38;5;241m.\u001B[39mones((\u001B[38;5;28mlen\u001B[39m(waveforms[\u001B[38;5;241m0\u001B[39m]),\u001B[38;5;241m1\u001B[39m)),waveforms[\u001B[38;5;241m2\u001B[39m]\u001B[38;5;241m*\u001B[39mnp\u001B[38;5;241m.\u001B[39mones((\u001B[38;5;28mlen\u001B[39m(waveforms[\u001B[38;5;241m0\u001B[39m]),\u001B[38;5;241m1\u001B[39m))],axis\u001B[38;5;241m=\u001B[39m\u001B[38;5;241m1\u001B[39m)\n\u001B[0;32m     25\u001B[0m     \u001B[38;5;66;03m#print(feature)\u001B[39;00m\n\u001B[1;32m---> 26\u001B[0m     \u001B[43mnp\u001B[49m\u001B[38;5;241;43m.\u001B[39;49m\u001B[43msavetxt\u001B[49m\u001B[43m(\u001B[49m\u001B[38;5;124;43mr\u001B[39;49m\u001B[38;5;124;43m'\u001B[39;49m\u001B[38;5;124;43mD:/Implementation/NeuralnetworkBPestimation/data/Features_ppg_20/subject_\u001B[39;49m\u001B[38;5;124;43m'\u001B[39;49m\u001B[38;5;241;43m+\u001B[39;49m\u001B[43ma\u001B[49m\u001B[38;5;241;43m+\u001B[39;49m\u001B[38;5;124;43m'\u001B[39;49m\u001B[38;5;124;43m_features.csv\u001B[39;49m\u001B[38;5;124;43m'\u001B[39;49m\u001B[43m,\u001B[49m\u001B[43mfeature\u001B[49m\u001B[43m)\u001B[49m\n\u001B[0;32m     27\u001B[0m \u001B[38;5;28;01melse\u001B[39;00m:\n\u001B[0;32m     28\u001B[0m     \u001B[38;5;28;01mcontinue\u001B[39;00m\n",
      "File \u001B[1;32m<__array_function__ internals>:5\u001B[0m, in \u001B[0;36msavetxt\u001B[1;34m(*args, **kwargs)\u001B[0m\n",
      "File \u001B[1;32m~\\anaconda3\\lib\\site-packages\\numpy\\lib\\npyio.py:1368\u001B[0m, in \u001B[0;36msavetxt\u001B[1;34m(fname, X, fmt, delimiter, newline, header, footer, comments, encoding)\u001B[0m\n\u001B[0;32m   1365\u001B[0m     fname \u001B[38;5;241m=\u001B[39m os_fspath(fname)\n\u001B[0;32m   1366\u001B[0m \u001B[38;5;28;01mif\u001B[39;00m _is_string_like(fname):\n\u001B[0;32m   1367\u001B[0m     \u001B[38;5;66;03m# datasource doesn't support creating a new file ...\u001B[39;00m\n\u001B[1;32m-> 1368\u001B[0m     \u001B[38;5;28;43mopen\u001B[39;49m\u001B[43m(\u001B[49m\u001B[43mfname\u001B[49m\u001B[43m,\u001B[49m\u001B[43m \u001B[49m\u001B[38;5;124;43m'\u001B[39;49m\u001B[38;5;124;43mwt\u001B[39;49m\u001B[38;5;124;43m'\u001B[39;49m\u001B[43m)\u001B[49m\u001B[38;5;241m.\u001B[39mclose()\n\u001B[0;32m   1369\u001B[0m     fh \u001B[38;5;241m=\u001B[39m np\u001B[38;5;241m.\u001B[39mlib\u001B[38;5;241m.\u001B[39m_datasource\u001B[38;5;241m.\u001B[39mopen(fname, \u001B[38;5;124m'\u001B[39m\u001B[38;5;124mwt\u001B[39m\u001B[38;5;124m'\u001B[39m, encoding\u001B[38;5;241m=\u001B[39mencoding)\n\u001B[0;32m   1370\u001B[0m     own_fh \u001B[38;5;241m=\u001B[39m \u001B[38;5;28;01mTrue\u001B[39;00m\n",
      "\u001B[1;31mFileNotFoundError\u001B[0m: [Errno 2] No such file or directory: 'D:/Implementation/NeuralnetworkBPestimation/data/Features_ppg_20/subject_10_features.csv'"
     ]
    },
    {
     "data": {
      "text/plain": "<Figure size 432x288 with 1 Axes>",
      "image/png": "[encoded data removed]"
     },
     "metadata": {
      "needs_background": "light"
     },
     "output_type": "display_data"
    }
   ],
   "source": [
    "\"\"\"Extract features from the 15000 first sample\n",
    "\"\"\"\n",
    "import random\n",
    "TAILLE_MAX=3475840\n",
    "choices=random.choices(list(range(TAILLE_MAX)),k=15000)\n",
    "for i in choices:\n",
    "    row=Extract_row_win(win,i) #extract one window of ppg signal\n",
    "    waveforms=extract_ppg_single_waveform(row) #extract the single waveforms from the window\n",
    "    a=str(i)\n",
    "    features=[]\n",
    "    if len(waveforms[0])>=1:\n",
    "        for j in range(len(waveforms[0])):\n",
    "        #plt.plot(waveforms[0][i])\n",
    "            feature=extract_ppg20(waveforms[0][j],waveforms[3][j]) # extract five ppg features from each waveform\n",
    "\n",
    "           # while len(features<=3):\n",
    "            features.append(feature)\n",
    "            feat_np=np.array(features) #transform the list into a numpy array\n",
    "        #print(feat_np)\n",
    "        #print(i)\n",
    "        #print(len(waveforms[0]))\n",
    "\n",
    "        feature=np.concatenate([feat_np,waveforms[1]*np.ones((len(waveforms[0]),1)),waveforms[2]*np.ones((len(waveforms[0]),1))],axis=1)\n",
    "        #print(feature)\n",
    "        np.savetxt(r'D:/Implementation/NeuralnetworkBPestimation/data/Features_ppg_20/subject_'+a+'_features.csv',feature)\n",
    "    else:\n",
    "        continue\n",
    "\n"
   ],
   "metadata": {
    "collapsed": false,
    "pycharm": {
     "name": "#%%\n"
    }
   }
  },
  {
   "cell_type": "markdown",
   "source": [
    "### Split the folder in train test and val set for ANN ratio:70 15 15"
   ],
   "metadata": {
    "collapsed": false,
    "pycharm": {
     "name": "#%% md\n"
    }
   }
  },
  {
   "cell_type": "code",
   "execution_count": null,
   "outputs": [],
   "source": [
    "import os\n",
    "import shutil\n",
    "from sklearn.model_selection import train_test_split\n",
    "directory=\"data/Features_ppg_20\"\n",
    "files = [os.path.join(directory,f) for f in os.listdir(directory)]\n",
    "train,test= train_test_split(files,test_size=0.3)\n",
    "test,val=train_test_split(test, test_size=0.5)\n",
    "\n",
    "\n",
    "data_dir=os.path.join(\"data\",\"ppg_20_features_data\")\n",
    "train_dir=os.path.join(data_dir,\"train\")\n",
    "test_dir=os.path.join(data_dir,\"test\")\n",
    "val_dir=os.path.join(data_dir,\"val\")\n",
    "for (files, directory) in zip([train,test,val],[train_dir,test_dir,val_dir]):\n",
    "    #print(directory)\n",
    "    if not os.path.exists(directory):\n",
    "        os.makedirs(directory)\n",
    "    for file in files:\n",
    "            \n",
    "        shutil.move(file,os.path.join(directory,os.path.basename((file))))"
   ],
   "metadata": {
    "collapsed": false,
    "pycharm": {
     "name": "#%%\n"
    }
   }
  },
  {
   "cell_type": "code",
   "execution_count": null,
   "outputs": [],
   "source": [
    "row=Extract_row_win(win,row_nbr=879)\n",
    "#print(row[0].shape)\n",
    "waveforms=extract_ppg_single_waveform(row)\n",
    "#print(len(waveforms[0]))\n",
    "\n",
    "\n",
    "for i in range(len(waveforms[0])):\n",
    "    a=str(i)\n",
    "    #plt.plot(waveforms[0][i])\n",
    "    \n",
    "feature=extract_ppg20(waveforms[0][1])\n",
    "print(feature)\n",
    "\n",
    "    \n",
    "\n"
   ],
   "metadata": {
    "collapsed": false,
    "pycharm": {
     "name": "#%%\n"
    }
   }
  },
  {
   "cell_type": "code",
   "execution_count": null,
   "outputs": [],
   "source": [
    " #print(np.array(waveforms[0]))\n",
    " maxima_index = argrelmax(waveforms[0][1])\n",
    " #print(maxima_index)\n",
    " x = waveforms[0][1][maxima_index][0]\n",
    " #print(x)\n",
    " minima_index = argrelextrema((waveforms[0][1]),np.less_equal)\n",
    " print(minima_index)\n"
   ],
   "metadata": {
    "collapsed": false,
    "pycharm": {
     "name": "#%%\n"
    }
   }
  },
  {
   "cell_type": "code",
   "execution_count": null,
   "outputs": [],
   "source": [],
   "metadata": {
    "collapsed": false,
    "pycharm": {
     "name": "#%%\n"
    }
   }
  }
 ],
 "metadata": {
  "kernelspec": {
   "display_name": "Python 3.9.7 ('base')",
   "language": "python",
   "name": "python3"
  },
  "language_info": {
   "codemirror_mode": {
    "name": "ipython",
    "version": 3
   },
   "file_extension": ".py",
   "mimetype": "text/x-python",
   "name": "python",
   "nbconvert_exporter": "python",
   "pygments_lexer": "ipython3",
   "version": "3.9.7"
  },
  "orig_nbformat": 4,
  "vscode": {
   "interpreter": {
    "hash": "f0772a89b7b7552231f8b4808588399a8029470ff763161a0caeccf5fec49431"
   }
  }
 },
 "nbformat": 4,
 "nbformat_minor": 2
}